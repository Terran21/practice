{
 "cells": [
  {
   "cell_type": "markdown",
   "metadata": {},
   "source": [
    "---\n",
    "\n",
    "_You are currently looking at **version 1.0** of this notebook. To download notebooks and datafiles, as well as get help on Jupyter notebooks in the Coursera platform, visit the [Jupyter Notebook FAQ](https://www.coursera.org/learn/python-text-mining/resources/d9pwm) course resource._\n",
    "\n",
    "---"
   ]
  },
  {
   "cell_type": "markdown",
   "metadata": {},
   "source": [
    "# Assignment 3\n",
    "\n",
    "In this assignment you will explore text message data and create models to predict if a message is spam or not. "
   ]
  },
  {
   "cell_type": "code",
   "execution_count": 1,
   "metadata": {},
   "outputs": [
    {
     "name": "stdout",
     "output_type": "stream",
     "text": [
      "                                                text target\n",
      "0  Go until jurong point, crazy.. Available only ...    ham\n",
      "1                      Ok lar... Joking wif u oni...    ham\n",
      "2  Free entry in 2 a wkly comp to win FA Cup fina...   spam\n",
      "3  U dun say so early hor... U c already then say...    ham\n",
      "4  Nah I don't think he goes to usf, he lives aro...    ham\n"
     ]
    },
    {
     "data": {
      "text/plain": [
       "\"Nah I don't think he goes to usf, he lives around here though\""
      ]
     },
     "execution_count": 1,
     "metadata": {},
     "output_type": "execute_result"
    }
   ],
   "source": [
    "import pandas as pd\n",
    "import numpy as np\n",
    "\n",
    "spam_data = pd.read_csv('spam.csv')\n",
    "print(spam_data.head())\n",
    "spam_data['target'] = np.where(spam_data['target']=='spam',1,0)\n",
    "spam_data.head(10)\n",
    "spam_data['text'][4]"
   ]
  },
  {
   "cell_type": "code",
   "execution_count": 2,
   "metadata": {
    "collapsed": true
   },
   "outputs": [],
   "source": [
    "from sklearn.model_selection import train_test_split\n",
    "\n",
    "\n",
    "X_train, X_test, y_train, y_test = train_test_split(spam_data['text'], \n",
    "                                                    spam_data['target'], \n",
    "                                                    random_state=0)"
   ]
  },
  {
   "cell_type": "markdown",
   "metadata": {},
   "source": [
    "### Question 1\n",
    "What percentage of the documents in `spam_data` are spam?"
   ]
  },
  {
   "cell_type": "code",
   "execution_count": 168,
   "metadata": {
    "collapsed": true
   },
   "outputs": [],
   "source": [
    "def answer_one():\n",
    "    #n_spam = np.sum(spam_data['target'])\n",
    "    #n_tot = spam_data['target'].shape[0]\n",
    "    return spam_data['target'].mean()*100 #Your answer here\n",
    "#answer_one()"
   ]
  },
  {
   "cell_type": "code",
   "execution_count": 169,
   "metadata": {},
   "outputs": [
    {
     "data": {
      "text/plain": [
       "13.406317300789663"
      ]
     },
     "execution_count": 169,
     "metadata": {},
     "output_type": "execute_result"
    }
   ],
   "source": [
    "answer_one()"
   ]
  },
  {
   "cell_type": "markdown",
   "metadata": {},
   "source": [
    "### Question 2\n",
    "\n",
    "Fit the training data `X_train` using a Count Vectorizer with default parameters.\n",
    "\n",
    "What is the longest token in the vocabulary?\n",
    "\n",
    "*This function should return a string.*"
   ]
  },
  {
   "cell_type": "code",
   "execution_count": 180,
   "metadata": {
    "collapsed": true
   },
   "outputs": [],
   "source": [
    "from sklearn.feature_extraction.text import CountVectorizer\n",
    "\n",
    "def answer_two():\n",
    "    vect = CountVectorizer().fit(X_train)\n",
    "    names = vect.get_feature_names()\n",
    "    #print(names)\n",
    "    length = [len(x) for x in names]\n",
    "    max_len = max(length)\n",
    "    result = [x for x in names if len(x) == max_len]\n",
    "    return result[0]#Your answer here"
   ]
  },
  {
   "cell_type": "code",
   "execution_count": 181,
   "metadata": {
    "scrolled": false
   },
   "outputs": [
    {
     "data": {
      "text/plain": [
       "'com1win150ppmx3age16subscription'"
      ]
     },
     "execution_count": 181,
     "metadata": {},
     "output_type": "execute_result"
    }
   ],
   "source": [
    "answer_two()"
   ]
  },
  {
   "cell_type": "markdown",
   "metadata": {},
   "source": [
    "### Question 3\n",
    "\n",
    "Fit and transform the training data `X_train` using a Count Vectorizer with default parameters.\n",
    "\n",
    "Next, fit a fit a multinomial Naive Bayes classifier model with smoothing `alpha=0.1`. Find the area under the curve (AUC) score using the transformed test data.\n",
    "\n",
    "*This function should return the AUC score as a float.*"
   ]
  },
  {
   "cell_type": "code",
   "execution_count": 7,
   "metadata": {
    "collapsed": true
   },
   "outputs": [],
   "source": [
    "from sklearn.naive_bayes import MultinomialNB\n",
    "from sklearn.metrics import roc_auc_score\n",
    "\n",
    "def answer_three():\n",
    "    vect = CountVectorizer().fit(X_train)\n",
    "    X_train_vect = vect.transform(X_train)\n",
    "    \n",
    "    MNB = MultinomialNB(alpha=0.1)\n",
    "    MNB.fit(X_train_vect, y_train)\n",
    "    \n",
    "    X_test_vect = vect.transform(X_test)\n",
    "    y_pred = MNB.predict_proba(X_test_vect)\n",
    "    #print(y_pred)\n",
    "    #print(MNB.classes_)\n",
    "    \n",
    "    y_pred = [x[1] for x in y_pred]\n",
    "    auc = roc_auc_score(y_test, y_pred)\n",
    "    return auc #Your answer here"
   ]
  },
  {
   "cell_type": "code",
   "execution_count": 8,
   "metadata": {},
   "outputs": [
    {
     "data": {
      "text/plain": [
       "0.99154542213469599"
      ]
     },
     "execution_count": 8,
     "metadata": {},
     "output_type": "execute_result"
    }
   ],
   "source": [
    "answer_three()"
   ]
  },
  {
   "cell_type": "markdown",
   "metadata": {},
   "source": [
    "### Question 4\n",
    "\n",
    "Fit and transform the training data `X_train` using a Tfidf Vectorizer with default parameters.\n",
    "\n",
    "What 20 features have the smallest tf-idf and what 20 have the largest tf-idf?\n",
    "\n",
    "Put these features in a two series where each series is sorted by tf-idf value and then alphabetically by feature name. The index of the series should be the feature name, and the data should be the tf-idf.\n",
    "\n",
    "The series of 20 features with smallest tf-idfs should be sorted smallest tfidf first, the list of 20 features with largest tf-idfs should be sorted largest first. \n",
    "\n",
    "*This function should return a tuple of two series\n",
    "`(smallest tf-idfs series, largest tf-idfs series)`.*"
   ]
  },
  {
   "cell_type": "code",
   "execution_count": 182,
   "metadata": {
    "collapsed": true
   },
   "outputs": [],
   "source": [
    "from sklearn.feature_extraction.text import TfidfVectorizer\n",
    "\n",
    "def answer_four():\n",
    "    vect = TfidfVectorizer().fit(X_train)\n",
    "    X_train_vect = vect.transform(X_train)\n",
    "    \n",
    "    feature_names = np.array(vect.get_feature_names())\n",
    "    max_tfidf_index = X_train_vect.max(0).toarray()[0].argsort()\n",
    "    min_tfidf_index = X_train_vect.min(0).toarray()[0].argsort()\n",
    "    largest = feature_names[max_tfidf_index[-20:]] \n",
    "    smallest = feature_names[min_tfidf_index[:20]]\n",
    "    \n",
    "    largest_s = pd.Series(data=X_train_vect.max(0).toarray()[0][max_tfidf_index[-20:]], index = largest)\n",
    "    smallest_s = pd.Series(data=X_train_vect.min(0).toarray()[0][min_tfidf_index[:20]], index = smallest)\n",
    "    \n",
    "    #sort two series\n",
    "    df_large = largest_s.reset_index(drop=False)\n",
    "    df_large = df_large.sort_values(by=[0,'index'], ascending=[False, True])\n",
    "    s_large = df_large.set_index('index')[0]\n",
    "    df_small = smallest_s.reset_index(drop=False)\n",
    "    df_small = df_small.sort_values(by=[0, 'index'], ascending=[True, True])\n",
    "    s_small = df_small.set_index('index')[0]\n",
    "    result = (s_small, s_large)\n",
    "    return result#Your answer here"
   ]
  },
  {
   "cell_type": "code",
   "execution_count": 183,
   "metadata": {},
   "outputs": [
    {
     "data": {
      "text/plain": [
       "(index\n",
       " 00                 0.0\n",
       " petrol             0.0\n",
       " petticoatdreams    0.0\n",
       " pg                 0.0\n",
       " ph                 0.0\n",
       " pharmacy           0.0\n",
       " phb1               0.0\n",
       " phews              0.0\n",
       " phil               0.0\n",
       " philosophical      0.0\n",
       " philosophy         0.0\n",
       " phne               0.0\n",
       " phoenix            0.0\n",
       " phone              0.0\n",
       " phonebook          0.0\n",
       " phoned             0.0\n",
       " phones             0.0\n",
       " phony              0.0\n",
       " photo              0.0\n",
       " photos             0.0\n",
       " Name: 0, dtype: float64, index\n",
       " 146tf150p    1.000000\n",
       " 645          1.000000\n",
       " anything     1.000000\n",
       " anytime      1.000000\n",
       " beerage      1.000000\n",
       " done         1.000000\n",
       " er           1.000000\n",
       " havent       1.000000\n",
       " home         1.000000\n",
       " lei          1.000000\n",
       " nite         1.000000\n",
       " ok           1.000000\n",
       " okie         1.000000\n",
       " thank        1.000000\n",
       " thanx        1.000000\n",
       " too          1.000000\n",
       " where        1.000000\n",
       " yup          1.000000\n",
       " tick         0.980166\n",
       " blank        0.932702\n",
       " Name: 0, dtype: float64)"
      ]
     },
     "execution_count": 183,
     "metadata": {},
     "output_type": "execute_result"
    }
   ],
   "source": [
    "answer_four()"
   ]
  },
  {
   "cell_type": "markdown",
   "metadata": {},
   "source": [
    "### Question 5\n",
    "\n",
    "Fit and transform the training data `X_train` using a Tfidf Vectorizer ignoring terms that have a document frequency strictly lower than **3**.\n",
    "\n",
    "Then fit a multinomial Naive Bayes classifier model with smoothing `alpha=0.1` and compute the area under the curve (AUC) score using the transformed test data.\n",
    "\n",
    "*This function should return the AUC score as a float.*"
   ]
  },
  {
   "cell_type": "code",
   "execution_count": 11,
   "metadata": {
    "collapsed": true
   },
   "outputs": [],
   "source": [
    "from sklearn.metrics import roc_auc_score\n",
    "from sklearn.naive_bayes import MultinomialNB\n",
    "def answer_five():\n",
    "    vect = TfidfVectorizer(min_df=3).fit(X_train)\n",
    "    X_train_vect = vect.transform(X_train)\n",
    "    model = MultinomialNB(alpha=0.1).fit(X_train_vect, y_train)\n",
    "    X_test_vect = vect.transform(X_test)\n",
    "    y_pred = model.predict(X_test_vect)\n",
    "    auc = roc_auc_score(y_test, y_pred)\n",
    "    return auc#Your answer here"
   ]
  },
  {
   "cell_type": "code",
   "execution_count": 12,
   "metadata": {},
   "outputs": [
    {
     "data": {
      "text/plain": [
       "0.94162436548223349"
      ]
     },
     "execution_count": 12,
     "metadata": {},
     "output_type": "execute_result"
    }
   ],
   "source": [
    "answer_five()"
   ]
  },
  {
   "cell_type": "markdown",
   "metadata": {},
   "source": [
    "### Question 6\n",
    "\n",
    "What is the average length of documents (number of characters) for not spam and spam documents?\n",
    "\n",
    "*This function should return a tuple (average length not spam, average length spam).*"
   ]
  },
  {
   "cell_type": "code",
   "execution_count": 13,
   "metadata": {
    "collapsed": true
   },
   "outputs": [],
   "source": [
    "def answer_six():\n",
    "    spam = spam_data[spam_data['target']==1]['text'].tolist()\n",
    "    spam_len = np.mean([len(x) for x in spam])\n",
    "    non_spam = spam_data[spam_data['target']==0]['text'].tolist()\n",
    "    non_spam_len = np.mean([len(x) for x in non_spam])\n",
    "    return non_spam_len, spam_len#Your answer here"
   ]
  },
  {
   "cell_type": "code",
   "execution_count": 14,
   "metadata": {},
   "outputs": [
    {
     "data": {
      "text/plain": [
       "(71.023626943005183, 138.8661311914324)"
      ]
     },
     "execution_count": 14,
     "metadata": {},
     "output_type": "execute_result"
    }
   ],
   "source": [
    "answer_six()"
   ]
  },
  {
   "cell_type": "markdown",
   "metadata": {},
   "source": [
    "<br>\n",
    "<br>\n",
    "The following function has been provided to help you combine new features into the training data:"
   ]
  },
  {
   "cell_type": "code",
   "execution_count": 15,
   "metadata": {
    "collapsed": true
   },
   "outputs": [],
   "source": [
    "def add_feature(X, feature_to_add):\n",
    "    \"\"\"\n",
    "    Returns sparse feature matrix with added feature.\n",
    "    feature_to_add can also be a list of features.\n",
    "    \"\"\"\n",
    "    from scipy.sparse import csr_matrix, hstack\n",
    "    return hstack([X, csr_matrix(feature_to_add).T], 'csr')"
   ]
  },
  {
   "cell_type": "markdown",
   "metadata": {},
   "source": [
    "### Question 7\n",
    "\n",
    "Fit and transform the training data X_train using a Tfidf Vectorizer ignoring terms that have a document frequency strictly lower than **5**.\n",
    "\n",
    "Using this document-term matrix and an additional feature, **the length of document (number of characters)**, fit a Support Vector Classification model with regularization `C=10000`. Then compute the area under the curve (AUC) score using the transformed test data.\n",
    "\n",
    "*This function should return the AUC score as a float.*"
   ]
  },
  {
   "cell_type": "code",
   "execution_count": 16,
   "metadata": {
    "collapsed": true
   },
   "outputs": [],
   "source": [
    "from sklearn.svm import SVC\n",
    "\n",
    "def answer_seven():\n",
    "    vect = TfidfVectorizer(min_df=5).fit(X_train)\n",
    "    X_train_vect = vect.transform(X_train)\n",
    "    x_new_ft = [len(x) for x in X_train]\n",
    "    X_train_vect2 = add_feature(X_train_vect, x_new_ft)\n",
    "    #print(X_train_vect2)\n",
    "    model = SVC(C=10000).fit(X_train_vect2, y_train)\n",
    "    \n",
    "    X_test_vect = vect.transform(X_test)\n",
    "    x_test_ft = [len(x) for x in X_test]\n",
    "    X_test_vect2 = add_feature(X_test_vect, x_test_ft)\n",
    "    y_pred = model.predict(X_test_vect2)\n",
    "    auc = roc_auc_score(y_test, y_pred)\n",
    "    return auc#Your answer here"
   ]
  },
  {
   "cell_type": "code",
   "execution_count": 17,
   "metadata": {},
   "outputs": [
    {
     "data": {
      "text/plain": [
       "0.95813668234215565"
      ]
     },
     "execution_count": 17,
     "metadata": {},
     "output_type": "execute_result"
    }
   ],
   "source": [
    "answer_seven()"
   ]
  },
  {
   "cell_type": "markdown",
   "metadata": {},
   "source": [
    "### Question 8\n",
    "\n",
    "What is the average number of digits per document for not spam and spam documents?\n",
    "\n",
    "*This function should return a tuple (average # digits not spam, average # digits spam).*"
   ]
  },
  {
   "cell_type": "code",
   "execution_count": 18,
   "metadata": {
    "collapsed": true
   },
   "outputs": [],
   "source": [
    "def answer_eight():\n",
    "    spam = spam_data[spam_data['target']==1]['text'].tolist()\n",
    "    spam_digit = []\n",
    "    for text in spam:\n",
    "        spam_digit.append([x for x in text if str.isdigit(x)])\n",
    "    spam_len = np.mean([len(x) for x in spam_digit])\n",
    "    #print(spam_digit)\n",
    "    \n",
    "    non_spam = spam_data[spam_data['target']==0]['text'].tolist()\n",
    "    non_spam_digit = []\n",
    "    for text in non_spam:\n",
    "        non_spam_digit.append([x for x in text if str.isdigit(x)])\n",
    "    non_spam_len = np.mean([len(x) for x in non_spam_digit])\n",
    "    #print(non_spam_digit)\n",
    "    \n",
    "    return (non_spam_len, spam_len)#Your answer here"
   ]
  },
  {
   "cell_type": "code",
   "execution_count": 19,
   "metadata": {},
   "outputs": [
    {
     "data": {
      "text/plain": [
       "(0.29927461139896372, 15.759036144578314)"
      ]
     },
     "execution_count": 19,
     "metadata": {},
     "output_type": "execute_result"
    }
   ],
   "source": [
    "answer_eight()"
   ]
  },
  {
   "cell_type": "markdown",
   "metadata": {},
   "source": [
    "### Question 9\n",
    "\n",
    "Fit and transform the training data `X_train` using a Tfidf Vectorizer ignoring terms that have a document frequency strictly lower than **5** and using **word n-grams from n=1 to n=3** (unigrams, bigrams, and trigrams).\n",
    "\n",
    "Using this document-term matrix and the following additional features:\n",
    "* the length of document (number of characters)\n",
    "* **number of digits per document**\n",
    "\n",
    "fit a Logistic Regression model with regularization `C=100`. Then compute the area under the curve (AUC) score using the transformed test data.\n",
    "\n",
    "*This function should return the AUC score as a float.*"
   ]
  },
  {
   "cell_type": "code",
   "execution_count": 20,
   "metadata": {
    "collapsed": true
   },
   "outputs": [],
   "source": [
    "from sklearn.linear_model import LogisticRegression\n",
    "\n",
    "def answer_nine():\n",
    "    vect = TfidfVectorizer(min_df=5, ngram_range=(1,3)).fit(X_train)\n",
    "    X_train_vect = vect.transform(X_train)\n",
    "    x_new_ft1 = [len(x) for x in X_train]\n",
    "    #print(x_new_ft1)\n",
    "    digit = []\n",
    "    for text in X_train:\n",
    "        digit.append([x for x in text if str.isdigit(x)]) \n",
    "    x_new_ft2 = [len(x) for x in digit]\n",
    "    #print(x_new_ft2)\n",
    "    X_train_vect2 = add_feature(X_train_vect, [x_new_ft1, x_new_ft2])\n",
    "    #print(X_train_vect2[1,3384])\n",
    "    \n",
    "    model = LogisticRegression(C=100).fit(X_train_vect2, y_train)\n",
    "    \n",
    "    X_test_vect = vect.transform(X_test)\n",
    "    x_new_ft1_test = [len(x) for x in X_test]\n",
    "    digit = []\n",
    "    for text in X_test:\n",
    "        digit.append([x for x in text if str.isdigit(x)]) \n",
    "    x_new_ft2_test = [len(x) for x in digit]\n",
    "    X_test_vect2 = add_feature(X_test_vect, [x_new_ft1_test, x_new_ft2_test])\n",
    "    y_pred = model.predict(X_test_vect2)\n",
    "    \n",
    "    auc = roc_auc_score(y_test, y_pred)\n",
    "    \n",
    "    return auc#Your answer here"
   ]
  },
  {
   "cell_type": "code",
   "execution_count": 21,
   "metadata": {},
   "outputs": [
    {
     "data": {
      "text/plain": [
       "0.96533283533945646"
      ]
     },
     "execution_count": 21,
     "metadata": {},
     "output_type": "execute_result"
    }
   ],
   "source": [
    "answer_nine()"
   ]
  },
  {
   "cell_type": "markdown",
   "metadata": {},
   "source": [
    "### Question 10\n",
    "\n",
    "What is the average number of non-word characters (anything other than a letter, digit or underscore) per document for not spam and spam documents?\n",
    "\n",
    "*Hint: Use `\\w` and `\\W` character classes*\n",
    "\n",
    "*This function should return a tuple (average # non-word characters not spam, average # non-word characters spam).*"
   ]
  },
  {
   "cell_type": "code",
   "execution_count": 192,
   "metadata": {
    "collapsed": true
   },
   "outputs": [],
   "source": [
    "#import re\n",
    "def answer_ten():\n",
    "    import re\n",
    "    spam = spam_data[spam_data['target']==1]['text'].tolist()\n",
    "    spam_n_word = []\n",
    "    for text in spam:\n",
    "        spam_n_word.append(re.sub('\\w', '', text))\n",
    "    spam_len = np.mean([len(x) for x in spam_n_word])\n",
    "    #print(spam_n_word[0])\n",
    "    #print(spam[0])\n",
    "    \n",
    "    ham = spam_data[spam_data['target']==0]['text'].tolist()\n",
    "    ham_n_word = []\n",
    "    for text in ham:\n",
    "        ham_n_word.append(re.sub('\\w', '', text))\n",
    "    ham_len = np.mean([len(x) for x in ham_n_word])\n",
    "    \n",
    "    return ham_len, spam_len#Your answer here"
   ]
  },
  {
   "cell_type": "code",
   "execution_count": 193,
   "metadata": {},
   "outputs": [
    {
     "data": {
      "text/plain": [
       "(17.291813471502589, 29.041499330655956)"
      ]
     },
     "execution_count": 193,
     "metadata": {},
     "output_type": "execute_result"
    }
   ],
   "source": [
    "answer_ten()"
   ]
  },
  {
   "cell_type": "markdown",
   "metadata": {},
   "source": [
    "### Question 11\n",
    "\n",
    "Fit and transform the training data X_train using a Count Vectorizer ignoring terms that have a document frequency strictly lower than **5** and using **character n-grams from n=2 to n=5.**\n",
    "\n",
    "To tell Count Vectorizer to use character n-grams pass in `analyzer='char_wb'` which creates character n-grams only from text inside word boundaries. This should make the model more robust to spelling mistakes.\n",
    "\n",
    "Using this document-term matrix and the following additional features:\n",
    "* the length of document (number of characters)\n",
    "* number of digits per document\n",
    "* **number of non-word characters (anything other than a letter, digit or underscore.)**\n",
    "\n",
    "fit a Logistic Regression model with regularization C=100. Then compute the area under the curve (AUC) score using the transformed test data.\n",
    "\n",
    "Also **find the 10 smallest and 10 largest coefficients from the model** and return them along with the AUC score in a tuple.\n",
    "\n",
    "The list of 10 smallest coefficients should be sorted smallest first, the list of 10 largest coefficients should be sorted largest first.\n",
    "\n",
    "The three features that were added to the document term matrix should have the following names should they appear in the list of coefficients:\n",
    "['length_of_doc', 'digit_count', 'non_word_char_count']\n",
    "\n",
    "*This function should return a tuple `(AUC score as a float, smallest coefs list, largest coefs list)`.*"
   ]
  },
  {
   "cell_type": "code",
   "execution_count": 166,
   "metadata": {
    "collapsed": true
   },
   "outputs": [],
   "source": [
    "def answer_eleven():\n",
    "    import re\n",
    "    vect = CountVectorizer(min_df=5, ngram_range=(2,5), analyzer='char_wb').fit(X_train)\n",
    "    X_train_vect = vect.transform(X_train)\n",
    "    #print(len(vect.get_feature_names()))\n",
    "    \n",
    "    # create three new features\n",
    "    length_of_doc = [len(x) for x in X_train]\n",
    "    digit = []\n",
    "    n_digit = []\n",
    "    for text in X_train:\n",
    "        digit.append([x for x in text if str.isdigit(x)]) \n",
    "        n_digit.append(re.sub('[A-Za-z0-9_]', '', text))\n",
    "    digit_count = [len(x) for x in digit]\n",
    "    non_word_char_count = [len(x) for x in n_digit]\n",
    "    \n",
    "    X_train_vect2 = add_feature(X_train_vect, [length_of_doc, digit_count, non_word_char_count])\n",
    "    #print(X_train_vect)\n",
    "    #print('-------------------------')\n",
    "    #print(X_train_vect2)\n",
    "    \n",
    "    # fit model and predict\n",
    "    model = LogisticRegression(C=100).fit(X_train_vect2, y_train)\n",
    "    X_test_vect = vect.transform(X_test)\n",
    "    length_of_doc_test = [len(x) for x in X_test]\n",
    "    digit_test = []\n",
    "    n_digit_test = []\n",
    "    for text in X_test:\n",
    "        digit_test.append([x for x in text if str.isdigit(x)]) \n",
    "        n_digit_test.append(re.sub('[A-Za-z0-9_]', '', text))\n",
    "    digit_count_test = [len(x) for x in digit_test]\n",
    "    non_word_char_count_test = [len(x) for x in n_digit_test]\n",
    "    \n",
    "    X_test_vect2 = add_feature(X_test_vect, [length_of_doc_test, digit_count_test, non_word_char_count_test])\n",
    "    y_pred = model.predict(X_test_vect2)\n",
    "    auc = roc_auc_score(y_test, y_pred)\n",
    "    \n",
    "    # find smallest and largest coeff\n",
    "    coef_order = model.coef_.argsort()[0]\n",
    "    feature_name = np.array(vect.get_feature_names() + ['length_of_doc', 'digit_count', 'non_word_char_count'])\n",
    "    \n",
    "    smallest_coef = feature_name[coef_order[:10]].tolist()\n",
    "    largest_coef = feature_name[coef_order[-1:-11:-1]].tolist()\n",
    "    return auc, smallest_coef, largest_coef #Your answer here"
   ]
  },
  {
   "cell_type": "code",
   "execution_count": 167,
   "metadata": {},
   "outputs": [
    {
     "data": {
      "text/plain": [
       "(0.97885931107074342,\n",
       " ['. ', '..', '? ', ' i', ' y', ' go', ':)', ' h', 'go', ' m'],\n",
       " ['digit_count', 'ne', 'co', 'ia', 'xt', ' ch', ' x', 'mob', 'ww', 'ar'])"
      ]
     },
     "execution_count": 167,
     "metadata": {},
     "output_type": "execute_result"
    }
   ],
   "source": [
    "answer_eleven()"
   ]
  },
  {
   "cell_type": "code",
   "execution_count": null,
   "metadata": {
    "collapsed": true
   },
   "outputs": [],
   "source": []
  }
 ],
 "metadata": {
  "coursera": {
   "course_slug": "python-text-mining",
   "graded_item_id": "Pn19K",
   "launcher_item_id": "y1juS",
   "part_id": "ctlgo"
  },
  "kernelspec": {
   "display_name": "Python 3",
   "language": "python",
   "name": "python3"
  },
  "language_info": {
   "codemirror_mode": {
    "name": "ipython",
    "version": 3
   },
   "file_extension": ".py",
   "mimetype": "text/x-python",
   "name": "python",
   "nbconvert_exporter": "python",
   "pygments_lexer": "ipython3",
   "version": "3.6.0"
  }
 },
 "nbformat": 4,
 "nbformat_minor": 2
}
